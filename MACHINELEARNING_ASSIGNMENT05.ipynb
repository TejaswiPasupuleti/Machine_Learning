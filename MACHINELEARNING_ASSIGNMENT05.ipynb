{
 "cells": [
  {
   "cell_type": "code",
   "execution_count": 1,
   "metadata": {
    "colab": {
     "base_uri": "https://localhost:8080/",
     "height": 206
    },
    "id": "v29mgKRpwlFG",
    "outputId": "e5bacf48-4e85-4af0-e49b-417968ae0608"
   },
   "outputs": [
    {
     "data": {
      "text/html": [
       "<div>\n",
       "<style scoped>\n",
       "    .dataframe tbody tr th:only-of-type {\n",
       "        vertical-align: middle;\n",
       "    }\n",
       "\n",
       "    .dataframe tbody tr th {\n",
       "        vertical-align: top;\n",
       "    }\n",
       "\n",
       "    .dataframe thead th {\n",
       "        text-align: right;\n",
       "    }\n",
       "</style>\n",
       "<table border=\"1\" class=\"dataframe\">\n",
       "  <thead>\n",
       "    <tr style=\"text-align: right;\">\n",
       "      <th></th>\n",
       "      <th>PCA 1</th>\n",
       "      <th>PCA 2</th>\n",
       "      <th>TENURE</th>\n",
       "    </tr>\n",
       "  </thead>\n",
       "  <tbody>\n",
       "    <tr>\n",
       "      <th>0</th>\n",
       "      <td>-1.696395</td>\n",
       "      <td>-1.122585</td>\n",
       "      <td>12.0</td>\n",
       "    </tr>\n",
       "    <tr>\n",
       "      <th>1</th>\n",
       "      <td>-1.215678</td>\n",
       "      <td>2.435645</td>\n",
       "      <td>12.0</td>\n",
       "    </tr>\n",
       "    <tr>\n",
       "      <th>2</th>\n",
       "      <td>0.935843</td>\n",
       "      <td>-0.385204</td>\n",
       "      <td>12.0</td>\n",
       "    </tr>\n",
       "    <tr>\n",
       "      <th>3</th>\n",
       "      <td>-1.614638</td>\n",
       "      <td>-0.724589</td>\n",
       "      <td>NaN</td>\n",
       "    </tr>\n",
       "    <tr>\n",
       "      <th>4</th>\n",
       "      <td>0.223695</td>\n",
       "      <td>-0.783611</td>\n",
       "      <td>12.0</td>\n",
       "    </tr>\n",
       "  </tbody>\n",
       "</table>\n",
       "</div>"
      ],
      "text/plain": [
       "      PCA 1     PCA 2  TENURE\n",
       "0 -1.696395 -1.122585    12.0\n",
       "1 -1.215678  2.435645    12.0\n",
       "2  0.935843 -0.385204    12.0\n",
       "3 -1.614638 -0.724589     NaN\n",
       "4  0.223695 -0.783611    12.0"
      ]
     },
     "execution_count": 1,
     "metadata": {},
     "output_type": "execute_result"
    }
   ],
   "source": [
    "import pandas as pd\n",
    "from sklearn.preprocessing import StandardScaler\n",
    "from sklearn.decomposition import PCA\n",
    "\n",
    "#drive.mount('/drive')\n",
    "data = pd.read_csv('CC GENERAL.csv')\n",
    "\n",
    "\n",
    "# Droping rows with missing values\n",
    "data.dropna(inplace=True)\n",
    "\n",
    "# Standardizing the features\n",
    "scaler = StandardScaler()\n",
    "X = scaler.fit_transform(data.drop('CUST_ID', axis=1))\n",
    "\n",
    "\n",
    "pca = PCA(n_components=2)\n",
    "X_pca = pca.fit_transform(X)\n",
    "\n",
    "principalData = pd.DataFrame(data = X_pca, columns = ['PCA 1', 'PCA 2'])\n",
    "finalData = pd.concat([principalData, data[['TENURE']]], axis = 1)\n",
    "finalData.head()\n",
    "\n"
   ]
  },
  {
   "cell_type": "code",
   "execution_count": 2,
   "metadata": {
    "colab": {
     "base_uri": "https://localhost:8080/"
    },
    "id": "x4vBXivQwsd9",
    "outputId": "f97bd59c-9c4b-4d72-fa7d-804632f2d177"
   },
   "outputs": [
    {
     "data": {
      "text/plain": [
       "0.4597329511337258"
      ]
     },
     "execution_count": 2,
     "metadata": {},
     "output_type": "execute_result"
    }
   ],
   "source": [
    "from sklearn.cluster import KMeans\n",
    "from sklearn.metrics import silhouette_score\n",
    "\n",
    "kmeans = KMeans(n_clusters=2, random_state=42)\n",
    "\n",
    "#Applying KMeans to the PCA result\n",
    "kmeans.fit(X_pca)\n",
    "y_kmeans = kmeans.predict(X_pca)\n",
    "\n",
    "silhouette_score(X_pca, y_kmeans)\n"
   ]
  },
  {
   "cell_type": "code",
   "execution_count": 3,
   "metadata": {
    "colab": {
     "base_uri": "https://localhost:8080/"
    },
    "id": "Gjnw2k9rwyde",
    "outputId": "27e8271e-abb8-4377-d18c-ac3a9f570623"
   },
   "outputs": [
    {
     "data": {
      "text/plain": [
       "0.45973304326428094"
      ]
     },
     "execution_count": 3,
     "metadata": {},
     "output_type": "execute_result"
    }
   ],
   "source": [
    "# Scaling the data\n",
    "scaler = StandardScaler()\n",
    "X_scaled = scaler.fit_transform(data.drop('CUST_ID', axis=1))\n",
    "\n",
    "# Applying PCA\n",
    "pca = PCA(n_components=2)\n",
    "X_pca = pca.fit_transform(X_scaled)\n",
    "\n",
    "# Apply k-means to PCA\n",
    "kmeans = KMeans(n_clusters=2, random_state=42)\n",
    "kmeans.fit(X_pca)\n",
    "y_kmeans = kmeans.predict(X_pca)\n",
    "\n",
    "# Evaluating the performance\n",
    "silhouette_score(X_pca, y_kmeans)\n"
   ]
  },
  {
   "cell_type": "markdown",
   "metadata": {
    "id": "nyxF6aOBzYu-"
   },
   "source": [
    "2nd Question"
   ]
  },
  {
   "cell_type": "code",
   "execution_count": 4,
   "metadata": {
    "colab": {
     "base_uri": "https://localhost:8080/"
    },
    "id": "CBR5pElNzdSM",
    "outputId": "50e0a7fe-27f2-4058-8fa7-ea4c806f7960"
   },
   "outputs": [],
   "source": [
    "import pandas as pd\n",
    "from sklearn.preprocessing import StandardScaler\n",
    "\n",
    "#loading the dataset into dataframes\n",
    "#drive.mount('/drive')\n",
    "dataSet = pd.read_csv('pd_speech_features.csv')\n",
    "\n",
    "#Separating the features(X) from target variable(y)\n",
    "X = dataSet.iloc[:, 1:-1].values\n",
    "y = dataSet.iloc[:, -1].values\n",
    "\n",
    "# applying scaling to the features\n",
    "scaler = StandardScaler()\n",
    "X = scaler.fit_transform(X)\n"
   ]
  },
  {
   "cell_type": "code",
   "execution_count": 5,
   "metadata": {
    "colab": {
     "base_uri": "https://localhost:8080/",
     "height": 206
    },
    "id": "jT7aiToyziAo",
    "outputId": "a3e894af-301d-49b7-e677-bf2667832a47"
   },
   "outputs": [
    {
     "data": {
      "text/html": [
       "<div>\n",
       "<style scoped>\n",
       "    .dataframe tbody tr th:only-of-type {\n",
       "        vertical-align: middle;\n",
       "    }\n",
       "\n",
       "    .dataframe tbody tr th {\n",
       "        vertical-align: top;\n",
       "    }\n",
       "\n",
       "    .dataframe thead th {\n",
       "        text-align: right;\n",
       "    }\n",
       "</style>\n",
       "<table border=\"1\" class=\"dataframe\">\n",
       "  <thead>\n",
       "    <tr style=\"text-align: right;\">\n",
       "      <th></th>\n",
       "      <th>PCA 1</th>\n",
       "      <th>PCA 2</th>\n",
       "      <th>PCA 3</th>\n",
       "      <th>class</th>\n",
       "    </tr>\n",
       "  </thead>\n",
       "  <tbody>\n",
       "    <tr>\n",
       "      <th>0</th>\n",
       "      <td>-10.034309</td>\n",
       "      <td>1.473186</td>\n",
       "      <td>-6.836297</td>\n",
       "      <td>1</td>\n",
       "    </tr>\n",
       "    <tr>\n",
       "      <th>1</th>\n",
       "      <td>-10.624667</td>\n",
       "      <td>1.585846</td>\n",
       "      <td>-6.820881</td>\n",
       "      <td>1</td>\n",
       "    </tr>\n",
       "    <tr>\n",
       "      <th>2</th>\n",
       "      <td>-13.503155</td>\n",
       "      <td>-1.251541</td>\n",
       "      <td>-6.809194</td>\n",
       "      <td>1</td>\n",
       "    </tr>\n",
       "    <tr>\n",
       "      <th>3</th>\n",
       "      <td>-9.143503</td>\n",
       "      <td>8.834668</td>\n",
       "      <td>15.302898</td>\n",
       "      <td>1</td>\n",
       "    </tr>\n",
       "    <tr>\n",
       "      <th>4</th>\n",
       "      <td>-6.752753</td>\n",
       "      <td>4.612587</td>\n",
       "      <td>15.649168</td>\n",
       "      <td>1</td>\n",
       "    </tr>\n",
       "  </tbody>\n",
       "</table>\n",
       "</div>"
      ],
      "text/plain": [
       "       PCA 1     PCA 2      PCA 3  class\n",
       "0 -10.034309  1.473186  -6.836297      1\n",
       "1 -10.624667  1.585846  -6.820881      1\n",
       "2 -13.503155 -1.251541  -6.809194      1\n",
       "3  -9.143503  8.834668  15.302898      1\n",
       "4  -6.752753  4.612587  15.649168      1"
      ]
     },
     "execution_count": 5,
     "metadata": {},
     "output_type": "execute_result"
    }
   ],
   "source": [
    "from sklearn.decomposition import PCA\n",
    "\n",
    "# applying PCA to reduce the dimensionality of the dataset\n",
    "pca = PCA(n_components=3)\n",
    "X = pca.fit_transform(X)\n",
    "principalData = pd.DataFrame(data = X, columns = ['PCA 1', 'PCA 2', 'PCA 3'])\n",
    "\n",
    "finalDf = pd.concat([principalData, dataSet[['class']]], axis = 1)\n",
    "finalDf.head()"
   ]
  },
  {
   "cell_type": "code",
   "execution_count": 6,
   "metadata": {
    "colab": {
     "base_uri": "https://localhost:8080/"
    },
    "id": "HATPsuUBzlqx",
    "outputId": "415ba291-e101-482b-ef92-4298f808ac64"
   },
   "outputs": [
    {
     "name": "stdout",
     "output_type": "stream",
     "text": [
      "Accuracy:  0.775330396475771\n",
      "Precision:  0.7699530516431925\n",
      "Recall:  0.9879518072289156\n",
      "F1 score:  0.8654353562005278\n"
     ]
    }
   ],
   "source": [
    "from sklearn.model_selection import train_test_split\n",
    "from sklearn.svm import SVC\n",
    "from sklearn.metrics import accuracy_score, precision_score, recall_score, f1_score\n",
    "\n",
    "# splitting the training and testing sets using the train_test_split function\n",
    "X_train, X_test, y_train, y_test = train_test_split(X, y, test_size=0.3, random_state=42)\n",
    "\n",
    "# using SVM model\n",
    "clf = SVC(kernel='linear')\n",
    "clf.fit(X_train, y_train)\n",
    "y_pred = clf.predict(X_test)\n",
    "\n",
    "# calculating the performance by calculating accuracy, precision, recall and f1\n",
    "acc = accuracy_score(y_test, y_pred)\n",
    "prec = precision_score(y_test, y_pred)\n",
    "rec = recall_score(y_test, y_pred)\n",
    "f1 = f1_score(y_test, y_pred)\n",
    "\n",
    "print(\"Accuracy: \", acc)\n",
    "print(\"Precision: \", prec)\n",
    "print(\"Recall: \", rec)\n",
    "print(\"F1 score: \", f1)"
   ]
  },
  {
   "cell_type": "markdown",
   "metadata": {
    "id": "4SROD_FjzpAd"
   },
   "source": [
    "3rd Question"
   ]
  },
  {
   "cell_type": "code",
   "execution_count": 7,
   "metadata": {
    "colab": {
     "base_uri": "https://localhost:8080/",
     "height": 696
    },
    "id": "gGBg2lDuzrKR",
    "outputId": "36f59b38-7f4e-4202-98ff-0317d2dbf4f5"
   },
   "outputs": [
    {
     "data": {
      "image/png": "[encoded data removed]",
      "text/plain": [
       "<Figure size 1000x800 with 1 Axes>"
      ]
     },
     "metadata": {},
     "output_type": "display_data"
    }
   ],
   "source": [
    "import pandas as pd\n",
    "from sklearn.preprocessing import StandardScaler\n",
    "from sklearn.discriminant_analysis import LinearDiscriminantAnalysis as LDA\n",
    "\n",
    "# loading the iris dataset from CSV file\n",
    "dataSet = pd.read_csv('Iris.csv')\n",
    "\n",
    "# separating the features and target variables\n",
    "X = dataSet.iloc[:, :-1].values\n",
    "y = dataSet.iloc[:, -1].values\n",
    "\n",
    "# standardizing the features\n",
    "sc = StandardScaler()\n",
    "X = sc.fit_transform(X)\n",
    "\n",
    "# applying LDA\n",
    "lda = LDA(n_components=2)\n",
    "X_lda = lda.fit_transform(X, y)\n",
    "import matplotlib.pyplot as plt\n",
    "\n",
    "# visualizing the reduced-dimensional data\n",
    "plt.figure(figsize=(10, 8))\n",
    "for species in set(y):\n",
    "    plt.scatter(X_lda[y == species, 0], X_lda[y == species, 1], label=species)\n",
    "plt.xlabel('LD1')\n",
    "plt.ylabel('LD2')\n",
    "plt.legend()\n",
    "plt.show()\n"
   ]
  },
  {
   "cell_type": "markdown",
   "metadata": {
    "id": "hnA84Xhy3InA"
   },
   "source": [
    "4th Question\n",
    "\n",
    "The aim of LDA and PCA is to maximize the variance in a lower dimension using linear transformations.\n",
    "\n",
    "PCA is an unsupervised learning method that looks for a new set of orthogonal variables known as Principal components, that can best accommodate for the data's variation. The first principal component accounts for the majority of the variance in the data, and the principal components are arranged in order of their capacity to explain variance. PCA is frequently used for exploratory research and data visualization.\n",
    "\n",
    "The LDA method is of supervised learning which looks for a linear combination of features that best distinguishes between the classes in the data. Maximizing the variance between classes while minimizing the variance within classes is the aim of LDA. LDA is frequently applied to classification issues, where the goal is to predict, from a new observation's features, what class it belongs to.\n",
    "\n",
    "PCA is an unsupervised technique for reducing the dimensionality of the data by identifying the principal components that explain the most variance, whereas LDA is a supervised technique for reducing the dimensionality of the data by identifying the linear combination of features that best separates the classes in the data."
   ]
  }
 ],
 "metadata": {
  "colab": {
   "provenance": []
  },
  "kernelspec": {
   "display_name": "Python 3 (ipykernel)",
   "language": "python",
   "name": "python3"
  },
  "language_info": {
   "codemirror_mode": {
    "name": "ipython",
    "version": 3
   },
   "file_extension": ".py",
   "mimetype": "text/x-python",
   "name": "python",
   "nbconvert_exporter": "python",
   "pygments_lexer": "ipython3",
   "version": "3.9.13"
  }
 },
 "nbformat": 4,
 "nbformat_minor": 1
}
